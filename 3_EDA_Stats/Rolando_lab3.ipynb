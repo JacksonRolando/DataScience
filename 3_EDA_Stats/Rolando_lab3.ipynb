{
 "cells": [
  {
   "cell_type": "markdown",
   "metadata": {},
   "source": [
    "# Lab 3 - EDA (Stats)\n",
    "### Jackson Rolando"
   ]
  },
  {
   "cell_type": "markdown",
   "metadata": {},
   "source": [
    "## Part 1: Review of Statistical Tests"
   ]
  },
  {
   "attachments": {},
   "cell_type": "markdown",
   "metadata": {},
   "source": [
    "My initial hypothesis:\n",
    "The GPAs of students who play video games regularly are significantly lower than those who do not.\n",
    "\n",
    "My answers to the questions:\n",
    "1. A two-sample t-test is be used to compare a measured continuous variable between two groups. \n",
    "2. This situation is perfect for a two-sampled t-test. There are two groups, gamers and non-gamers, and we have the continuous variable of a GPA. \n",
    "Are there any particular assumptions that the t-test makes that may not hold here?\n",
    "3. We don't know how our distributions fall. The test assumes a normal distribution, which we have no idea of confirming. The standard deviations are similar, but since they are close, and we have more than 30 samples in each category, the mismatch shouldn't be an issue.\n",
    "\n",
    "**Null Hypothesesis:** There is not a significant difference between the groups.\n",
    "\n",
    "**Alernative Hypothesesis:** There is a significant difference between the groups, and the gamers have a higher GPA. "
   ]
  },
  {
   "attachments": {},
   "cell_type": "markdown",
   "metadata": {},
   "source": [
    "Here we apply the two-sampled t-test on the sample data: \n",
    "> 68 students said they play video games regularly, while 32 students said they did not. The 68 games have an average GPA of 3.4 with a standard deviation of 1.2, while the 32 non-gamers have an average GPA of 3.3 with a standard deviation of 1.1."
   ]
  },
  {
   "cell_type": "code",
   "execution_count": 98,
   "metadata": {},
   "outputs": [
    {
     "data": {
      "text/plain": [
       "Ttest_indResult(statistic=0.39893881176878243, pvalue=0.6908062583072547)"
      ]
     },
     "execution_count": 98,
     "metadata": {},
     "output_type": "execute_result"
    }
   ],
   "source": [
    "import scipy.stats as stats\n",
    "stats.ttest_ind_from_stats(3.4, 1.2, 68, 3.3, 1.1, 32)"
   ]
  },
  {
   "attachments": {},
   "cell_type": "markdown",
   "metadata": {},
   "source": [
    "The test yielded a p-value of 0.6908, way higher than the required maximum of 0.01. This means that we cannot reject the null hypothesis, as there is not a significant enough difference between the two groups of students."
   ]
  },
  {
   "attachments": {},
   "cell_type": "markdown",
   "metadata": {},
   "source": [
    "The result of the t-test cannot prove my initial hypothesis either. My mentioning of one group having 'significantly lower' GPAs was just another way of saying there was a significant negative difference, which the t-test disproved. "
   ]
  },
  {
   "attachments": {},
   "cell_type": "markdown",
   "metadata": {},
   "source": [
    "## Part 2: Exploring Additional Statistical Tests"
   ]
  },
  {
   "attachments": {},
   "cell_type": "markdown",
   "metadata": {},
   "source": [
    "### Correlation and Linear Regression\n",
    "\n",
    "A test for linear correlation is best done between two (usually) continuous features measured from the same sample. The assumptions usually made are less focused on the metrics of the data itself, but more on how the data was collected (random samples of a population vs specificly chosen independent variables) and/or controlled (potential confounding variables kept constant or intentionally made random). These assumptions/decisions affect what kinds of conclusions you can draw from the test, and which results you can use. \n",
    "\n",
    "A null hypothesis would predict the slope of the line of best fit between *insert variable 1* and *insert veriable 2* is zero, potentially with a threshold P-value.\n",
    "\n",
    "An alternative hypothesis would hope that the line of best fit of a plot of *variable 1* and *variable 2* has a nonzero slope, potentially with a maximum P value of acceptance.\n",
    "\n",
    "If the test indicates statistical significance, then depending on the decisions made when measuring samples (random samples from a population? chosen independent variables? controlled confounding variables?), you could use either the $r^2$ value or the P value for an implication of correlation or causation. For example, if you're measuring a correlation between two variables of random samples of a population with verifyably random confounding variables, then a very high $r^2$ value could imply causation. A relatively high correlation could mean that there is another (known or unknown) factor affecting both variables relatively predictably. There's something interesting going on. \n",
    "\n",
    "If the test does not indicate statistical significance between the variables of the correlation/regression, then one almost certainly does not cause the other, and there probably isn't another variable that affects the two variables similarly. "
   ]
  },
  {
   "attachments": {},
   "cell_type": "markdown",
   "metadata": {},
   "source": [
    "### Kruskal-Wallis Test\n",
    "This test is used to test for differences in a measured variable between different categories. Unlike other tests, it assumes <u>the different categories have a similar distribution</u>, but doesn't assume *which* distribution. It takes in the measurement variables not directly, but instead as a list of ranks, with the smallest measured value getting a rank of 1 and the largest value getting a rank of the number of total measured values. \n",
    "\n",
    "A null hypothesis predicts that there is no difference in the ranks of the means of each similarly-distributed group. An alternative hypothesis predicts that there is a significant difference between the means of the various categories.\n",
    "\n",
    "If the test indicates significance, this indicates that the means of the measured variable are different between the groups, and the category may be a useful differentiator for the measured variable. If the test does not indicate significance, then the category probably isn't a great way to separate the sample for the measured variable. "
   ]
  },
  {
   "attachments": {},
   "cell_type": "markdown",
   "metadata": {},
   "source": [
    "### Chi Squared Test\n",
    "\n",
    "The Chi-square test looks at a sample set's categorical variable, and tests how well it fits an expected distribution, given a large sample set. \n",
    "\n",
    "A null hypothesis says that there is no difference between the expected ratio (for example 20% category 1, 50% category 2, 30% category 3) and the actual ratio of categories in the observed samples.\n",
    "\n",
    "An alternative hypothesis would predict that there is a statistically significant difference between the expected ratio and the actual measured ratio of categories.\n",
    "\n",
    "A statistical significance for this test (very high chi-squared value) means that the observed samples, for a specific catgorical attribute, are not distributed as expected by the null hypothesis. Low statistical significance (very low; close to zero chi-squared value) means that the observed distribution of the sample set's categorical trait fits the null hypothesis's expected ratio very closely. "
   ]
  },
  {
   "attachments": {},
   "cell_type": "markdown",
   "metadata": {},
   "source": [
    "## Part 3: Regression on Price "
   ]
  },
  {
   "cell_type": "code",
   "execution_count": 99,
   "metadata": {},
   "outputs": [],
   "source": [
    "import pandas as pd\n",
    "import matplotlib.pyplot as plt"
   ]
  },
  {
   "attachments": {},
   "cell_type": "markdown",
   "metadata": {},
   "source": [
    "Here we'll import the cleaned real estate data:"
   ]
  },
  {
   "cell_type": "code",
   "execution_count": 100,
   "metadata": {},
   "outputs": [
    {
     "data": {
      "text/html": [
       "<div>\n",
       "<style scoped>\n",
       "    .dataframe tbody tr th:only-of-type {\n",
       "        vertical-align: middle;\n",
       "    }\n",
       "\n",
       "    .dataframe tbody tr th {\n",
       "        vertical-align: top;\n",
       "    }\n",
       "\n",
       "    .dataframe thead th {\n",
       "        text-align: right;\n",
       "    }\n",
       "</style>\n",
       "<table border=\"1\" class=\"dataframe\">\n",
       "  <thead>\n",
       "    <tr style=\"text-align: right;\">\n",
       "      <th></th>\n",
       "      <th>street</th>\n",
       "      <th>city</th>\n",
       "      <th>zip</th>\n",
       "      <th>state</th>\n",
       "      <th>beds</th>\n",
       "      <th>baths</th>\n",
       "      <th>sq__ft</th>\n",
       "      <th>type</th>\n",
       "      <th>sale_date</th>\n",
       "      <th>price</th>\n",
       "      <th>latitude</th>\n",
       "      <th>longitude</th>\n",
       "      <th>empty_lot</th>\n",
       "      <th>street_type</th>\n",
       "    </tr>\n",
       "  </thead>\n",
       "  <tbody>\n",
       "    <tr>\n",
       "      <th>0</th>\n",
       "      <td>3526 HIGH ST</td>\n",
       "      <td>SACRAMENTO</td>\n",
       "      <td>95838</td>\n",
       "      <td>CA</td>\n",
       "      <td>2</td>\n",
       "      <td>1</td>\n",
       "      <td>836</td>\n",
       "      <td>Residential</td>\n",
       "      <td>Wed May 21 00:00:00 EDT 2008</td>\n",
       "      <td>59222</td>\n",
       "      <td>38.631913</td>\n",
       "      <td>-121.434879</td>\n",
       "      <td>False</td>\n",
       "      <td>ST</td>\n",
       "    </tr>\n",
       "    <tr>\n",
       "      <th>1</th>\n",
       "      <td>51 OMAHA CT</td>\n",
       "      <td>SACRAMENTO</td>\n",
       "      <td>95823</td>\n",
       "      <td>CA</td>\n",
       "      <td>3</td>\n",
       "      <td>1</td>\n",
       "      <td>1167</td>\n",
       "      <td>Residential</td>\n",
       "      <td>Wed May 21 00:00:00 EDT 2008</td>\n",
       "      <td>68212</td>\n",
       "      <td>38.478902</td>\n",
       "      <td>-121.431028</td>\n",
       "      <td>False</td>\n",
       "      <td>CT</td>\n",
       "    </tr>\n",
       "    <tr>\n",
       "      <th>2</th>\n",
       "      <td>2796 BRANCH ST</td>\n",
       "      <td>SACRAMENTO</td>\n",
       "      <td>95815</td>\n",
       "      <td>CA</td>\n",
       "      <td>2</td>\n",
       "      <td>1</td>\n",
       "      <td>796</td>\n",
       "      <td>Residential</td>\n",
       "      <td>Wed May 21 00:00:00 EDT 2008</td>\n",
       "      <td>68880</td>\n",
       "      <td>38.618305</td>\n",
       "      <td>-121.443839</td>\n",
       "      <td>False</td>\n",
       "      <td>ST</td>\n",
       "    </tr>\n",
       "    <tr>\n",
       "      <th>3</th>\n",
       "      <td>2805 JANETTE WAY</td>\n",
       "      <td>SACRAMENTO</td>\n",
       "      <td>95815</td>\n",
       "      <td>CA</td>\n",
       "      <td>2</td>\n",
       "      <td>1</td>\n",
       "      <td>852</td>\n",
       "      <td>Residential</td>\n",
       "      <td>Wed May 21 00:00:00 EDT 2008</td>\n",
       "      <td>69307</td>\n",
       "      <td>38.616835</td>\n",
       "      <td>-121.439146</td>\n",
       "      <td>False</td>\n",
       "      <td>WAY</td>\n",
       "    </tr>\n",
       "    <tr>\n",
       "      <th>4</th>\n",
       "      <td>6001 MCMAHON DR</td>\n",
       "      <td>SACRAMENTO</td>\n",
       "      <td>95824</td>\n",
       "      <td>CA</td>\n",
       "      <td>2</td>\n",
       "      <td>1</td>\n",
       "      <td>797</td>\n",
       "      <td>Residential</td>\n",
       "      <td>Wed May 21 00:00:00 EDT 2008</td>\n",
       "      <td>81900</td>\n",
       "      <td>38.519470</td>\n",
       "      <td>-121.435768</td>\n",
       "      <td>False</td>\n",
       "      <td>DR</td>\n",
       "    </tr>\n",
       "  </tbody>\n",
       "</table>\n",
       "</div>"
      ],
      "text/plain": [
       "             street        city    zip state  beds  baths  sq__ft  \\\n",
       "0      3526 HIGH ST  SACRAMENTO  95838    CA     2      1     836   \n",
       "1       51 OMAHA CT  SACRAMENTO  95823    CA     3      1    1167   \n",
       "2    2796 BRANCH ST  SACRAMENTO  95815    CA     2      1     796   \n",
       "3  2805 JANETTE WAY  SACRAMENTO  95815    CA     2      1     852   \n",
       "4   6001 MCMAHON DR  SACRAMENTO  95824    CA     2      1     797   \n",
       "\n",
       "          type                     sale_date  price   latitude   longitude  \\\n",
       "0  Residential  Wed May 21 00:00:00 EDT 2008  59222  38.631913 -121.434879   \n",
       "1  Residential  Wed May 21 00:00:00 EDT 2008  68212  38.478902 -121.431028   \n",
       "2  Residential  Wed May 21 00:00:00 EDT 2008  68880  38.618305 -121.443839   \n",
       "3  Residential  Wed May 21 00:00:00 EDT 2008  69307  38.616835 -121.439146   \n",
       "4  Residential  Wed May 21 00:00:00 EDT 2008  81900  38.519470 -121.435768   \n",
       "\n",
       "   empty_lot street_type  \n",
       "0      False          ST  \n",
       "1      False          CT  \n",
       "2      False          ST  \n",
       "3      False         WAY  \n",
       "4      False          DR  "
      ]
     },
     "execution_count": 100,
     "metadata": {},
     "output_type": "execute_result"
    }
   ],
   "source": [
    "df_real_estate = pd.read_csv('./clean_sacramento_real_estate.csv')\n",
    "df_real_estate.head()"
   ]
  },
  {
   "attachments": {},
   "cell_type": "markdown",
   "metadata": {},
   "source": [
    "We'll test each of the continuous variables' correlation with price:"
   ]
  },
  {
   "cell_type": "code",
   "execution_count": 101,
   "metadata": {},
   "outputs": [
    {
     "name": "stdout",
     "output_type": "stream",
     "text": [
      "Regression for sq__ft - slope: 0.002058529857298546, r: 0.333896955406177, p: 4.433056844561304e-27\n",
      "Regression for latitude - slope: -4.159446882342373e-08, r: -0.03957326303078454, p: 0.21464106576976558\n",
      "Regression for longitude - slope: 2.843039755978338e-07, r: 0.28448478172766417, p: 8.552356644185739e-20\n"
     ]
    }
   ],
   "source": [
    "continuous_cols = ['sq__ft', 'latitude', 'longitude']\n",
    "for col in continuous_cols:\n",
    "    slope, intercept, r, p, stderr = stats.linregress(df_real_estate['price'], df_real_estate[col])\n",
    "    print(\"Regression for \" + col + \" - slope: \" + str(slope) + \", r: \" + str(r) + \", p: \" + str(p))"
   ]
  },
  {
   "attachments": {},
   "cell_type": "markdown",
   "metadata": {},
   "source": [
    "I'm also curious as to how the regression of sq__ft vs price fits when only including the rows where sq__ft is nonzero:"
   ]
  },
  {
   "cell_type": "code",
   "execution_count": 102,
   "metadata": {},
   "outputs": [
    {
     "name": "stdout",
     "output_type": "stream",
     "text": [
      "Regression for nonzero sq__ft - r: 0.6937079452714162, p: 7.67054783433292e-118\n"
     ]
    }
   ],
   "source": [
    "nonzero_rows = df_real_estate.sq__ft != 0\n",
    "\n",
    "slope, intercept, r, p, stderr = stats.linregress(df_real_estate['price'][nonzero_rows], df_real_estate['sq__ft'][nonzero_rows])\n",
    "print(\"Regression for nonzero sq__ft - r: \" + str(r) + \", p: \" + str(p))"
   ]
  },
  {
   "cell_type": "code",
   "execution_count": 103,
   "metadata": {},
   "outputs": [
    {
     "name": "stderr",
     "output_type": "stream",
     "text": [
      "/home/rolo/.local/lib/python3.8/site-packages/pandas/plotting/_matplotlib/core.py:1114: UserWarning: No data for colormapping provided via 'c'. Parameters 'cmap' will be ignored\n",
      "  scatter = ax.scatter(\n"
     ]
    },
    {
     "data": {
      "image/png": "[encoded data removed]",
      "text/plain": [
       "<Figure size 640x480 with 1 Axes>"
      ]
     },
     "metadata": {},
     "output_type": "display_data"
    },
    {
     "data": {
      "image/png": "[encoded data removed]",
      "text/plain": [
       "<Figure size 640x480 with 1 Axes>"
      ]
     },
     "metadata": {},
     "output_type": "display_data"
    }
   ],
   "source": [
    "df_real_estate[nonzero_rows].plot.scatter('sq__ft', 'price')\n",
    "plt.show()\n",
    "df_real_estate.plot.scatter('longitude', 'price')\n",
    "plt.show()"
   ]
  },
  {
   "attachments": {},
   "cell_type": "markdown",
   "metadata": {},
   "source": [
    "The results are as follows:\n",
    "\n",
    "|            &nbsp;&nbsp;&nbsp;&nbsp;&nbsp;&nbsp;&nbsp;&nbsp;&nbsp;&nbsp;    | r &nbsp;&nbsp;&nbsp;&nbsp;      | p           | significant?                                                                                                                                              |\n",
    "|----------------|---------|-------------|-----------------------------------------------------------------------------------------------------------------------------------------------------------|\n",
    "| sq__ft         | 0.3339  | 4.4331e-27  | very significant, way below the threshold $\\alpha$ of 0.01                                                                                                  |\n",
    "| latitude       | -0.0396 | 0.2146      | not significant, over the $\\alpha$                                                                                                                          |\n",
    "| longitude      | 0.2845  | 8.5524e-20  | very significant, which is interesting, seems as though the<br> price increases as you go farther east                                                        |\n",
    "| nonzero sq__ft | 0.6937  | 7.6705e-118 | much more significant, which makes sense. The zero<br> values aren't very helpful when talking in terms of a building's<br> square footage: there is no building! |"
   ]
  },
  {
   "attachments": {},
   "cell_type": "markdown",
   "metadata": {},
   "source": [
    "Here we use a Kruskal-Wallis test to determine how the prices of the different property types compare to those from other property types:"
   ]
  },
  {
   "cell_type": "code",
   "execution_count": 130,
   "metadata": {},
   "outputs": [
    {
     "name": "stdout",
     "output_type": "stream",
     "text": [
      "Condo vs Unkown - stat: 2.2862916320860167, p: 0.13052144355510706\n",
      "Condo vs Multi-Family - stat: 8.698915486557196, p: 0.0031839943101083993\n",
      "Condo vs Residential - stat: 29.70980281903078, p: 5.018042496053017e-08\n",
      "\n",
      "Between All Groups - stat: 30.370833452308304, p: 1.1531292565462277e-06\n"
     ]
    }
   ],
   "source": [
    "samples_by_group = {}\n",
    "all_groups = []\n",
    "for value in set(df_real_estate[\"type\"]): \n",
    "    mask = df_real_estate[\"type\"] == value \n",
    "    samples_by_group[value] = [] \n",
    "    mask_prices = df_real_estate[\"price\"][mask]\n",
    "    samples_by_group[value].append(mask_prices)\n",
    "    all_groups.append(mask_prices)\n",
    "\n",
    "\n",
    "for type in samples_by_group:\n",
    "    if (not type == 'Condo'):\n",
    "        stat, p = stats.kruskal(list(samples_by_group['Condo'][0]), list(samples_by_group[type][0]))\n",
    "        print(\"Condo vs \" + type + \" - stat: \" + str(stat) + \", p: \" + str(p))\n",
    "\n",
    "\n",
    "stat, p = stats.kruskal(*all_groups)\n",
    "print(\"\\nBetween All Groups - stat: \" + str(stat) + \", p: \" + str(p))"
   ]
  },
  {
   "attachments": {},
   "cell_type": "markdown",
   "metadata": {},
   "source": [
    "The total result (p-value of 1.1531e-06), as it is well below the $\\alpha=0.01$, indicates that the differences of the means between the various property types are significant, making it potentially very useful for prediction. \n",
    "\n",
    "Looking at it more specifically though, the only group that is significantly different than the condos' prices is the 'Residential' category:\n",
    "\n",
    "| Condo vs:   &nbsp;&nbsp;&nbsp; | p &nbsp;&nbsp;&nbsp;&nbsp;&nbsp; | significant?                                                                                                                                     |\n",
    "|--------------|------------|--------------------------------------------------------------------------------------------------------------------------------------------------|\n",
    "| Residential  | 5.0180e-08 | very, this extremely low p value is way below the required<br> $\\alpha$ value, being the only significant different category when<br> compared to condos |\n",
    "| Multi-Family | 0.0032     | not significant, this is probably due to the lack of data points                                                                                 |\n",
    "| Unknown      | 0.1305     | not significant, this is probably also due to the lack of data points                                                                            |\n",
    "\n",
    "These results align well with my observations from the previous lab. The square footage is very closely aligned with the price, especially after filtering the 0s, and there is a significant difference in price between property types, especially between condos and residential properties."
   ]
  },
  {
   "attachments": {},
   "cell_type": "markdown",
   "metadata": {},
   "source": [
    "## 4: Classification on Property Type"
   ]
  },
  {
   "attachments": {},
   "cell_type": "markdown",
   "metadata": {},
   "source": [
    "Here we'll run a Kruskal-Wallis test on each of the continous variables as to how they change accross property types:"
   ]
  },
  {
   "cell_type": "code",
   "execution_count": 105,
   "metadata": {},
   "outputs": [
    {
     "name": "stdout",
     "output_type": "stream",
     "text": [
      "sq__ft for each type: p: 3.849635133463987e-12\n",
      "latitude for each type: p: 0.4933696138791226\n",
      "longitude for each type: p: 0.3574295072205312\n",
      "price for each type: p: 1.1531292565462277e-06\n"
     ]
    }
   ],
   "source": [
    "continuous_cols = ['sq__ft', 'latitude', 'longitude', 'price']\n",
    "\n",
    "for col in continuous_cols:\n",
    "    vals_by_type = []\n",
    "    for value in set(df_real_estate[\"type\"]): \n",
    "        mask = df_real_estate[\"type\"] == value \n",
    "        vals_by_type.append(df_real_estate[col][mask])\n",
    "    stat, p = stats.kruskal(*vals_by_type)\n",
    "    print(col + \" for each type: p: \" + str(p))"
   ]
  },
  {
   "attachments": {},
   "cell_type": "markdown",
   "metadata": {},
   "source": [
    "The results were as follows:\n",
    "\n",
    "| continuous var: | p          | significant?                                                                  |\n",
    "|-----------------|------------|-------------------------------------------------------------------------------|\n",
    "| sq__ft          | 3.8496e-12 | yes, way more significant than price, and under the necessary $\\alpha = 0.01$ |\n",
    "| latitude        | 0.4934     | nope, way over the $\\alpha$                                                   |\n",
    "| longitude       | 0.3574     | nope, also way over the $\\alpha$                                              |\n",
    "| price           | 1.1531e-06 | yes, just as in the previous part                                             |"
   ]
  },
  {
   "cell_type": "code",
   "execution_count": 107,
   "metadata": {},
   "outputs": [
    {
     "name": "stdout",
     "output_type": "stream",
     "text": [
      "<class 'pandas.core.frame.DataFrame'>\n",
      "RangeIndex: 985 entries, 0 to 984\n",
      "Data columns (total 14 columns):\n",
      " #   Column       Non-Null Count  Dtype  \n",
      "---  ------       --------------  -----  \n",
      " 0   street       985 non-null    object \n",
      " 1   city         985 non-null    object \n",
      " 2   zip          985 non-null    int64  \n",
      " 3   state        985 non-null    object \n",
      " 4   beds         985 non-null    int64  \n",
      " 5   baths        985 non-null    int64  \n",
      " 6   sq__ft       985 non-null    int64  \n",
      " 7   type         985 non-null    object \n",
      " 8   sale_date    985 non-null    object \n",
      " 9   price        985 non-null    int64  \n",
      " 10  latitude     985 non-null    float64\n",
      " 11  longitude    985 non-null    float64\n",
      " 12  empty_lot    985 non-null    bool   \n",
      " 13  street_type  985 non-null    object \n",
      "dtypes: bool(1), float64(2), int64(5), object(6)\n",
      "memory usage: 101.1+ KB\n"
     ]
    }
   ],
   "source": [
    "df_real_estate.info()"
   ]
  },
  {
   "attachments": {},
   "cell_type": "markdown",
   "metadata": {},
   "source": [
    "Here we run a chi-squared test on the property type against each of the categorical variables to check for a potential relationship between the type and the other variables:"
   ]
  },
  {
   "cell_type": "code",
   "execution_count": 129,
   "metadata": {},
   "outputs": [
    {
     "name": "stdout",
     "output_type": "stream",
     "text": [
      "street - chi2: 2954.999999999999, p: 0.41918692100156474\n",
      "city - chi2: 1038.053109046946, p: 6.884142190454073e-149\n",
      "zip - chi2: 300.96283941966465, p: 6.195871832483889e-06\n",
      "beds - chi2: 364.92918208979756, p: 1.6090894896930032e-64\n",
      "baths - chi2: 234.17409903202986, p: 2.225837221388893e-41\n",
      "empty_lot - chi2: 8.39174379150273, p: 0.03857273017762252\n",
      "street_type - chi2: 183.81122151019406, p: 8.981260996683352e-18\n"
     ]
    }
   ],
   "source": [
    "cat_cols = ['street', 'city', 'zip', 'beds', 'baths', 'empty_lot', 'street_type']\n",
    "\n",
    "for col in cat_cols:\n",
    "    combination_counts = df_real_estate[[\"type\", col]].groupby(by=[\"type\", col]).size().unstack(level=0, fill_value=0)\n",
    "    chi2, p, _, _ = stats.chi2_contingency(combination_counts)\n",
    "    print(col + \" - chi2: \" + str(chi2) + \", p: \" + str(p))"
   ]
  },
  {
   "attachments": {},
   "cell_type": "markdown",
   "metadata": {},
   "source": [
    "The results were as follows:\n",
    "\n",
    "| type vs:   &nbsp;&nbsp;&nbsp;&nbsp; | p   &nbsp;&nbsp;&nbsp;&nbsp;&nbsp;&nbsp;&nbsp; | significant?                                                                                                                                                    |\n",
    "|-------------|------------|-----------------------------------------------------------------------------------------------------------------------------------------------------------------|\n",
    "| street      | 0.4192     | nope, the proportions were not dissimilar<br> enough to produce a p value lower than the necessary $\\alpha = 0.01$                                                  |\n",
    "| city        | 6.884e-149 | very much so, weirdly enough                                                                                                                                    |\n",
    "| zip         | 6.196e-06  | interestingly, this was significant as it <br>pertains to property type                                                                                             |\n",
    "| beds        | 1.609e-64  | definitely, this was much smaller than the<br> necessary $\\alpha$, which expectedly means that different types <br>of proporties usually have different numbers of beds |\n",
    "| baths       | 2.226e-41  | same story as the number of beds                                                                                                                                |\n",
    "| empty_lot   | 0.0386     | nope, this p-value was low, but not low enough                                                                                                                  |\n",
    "| street_type | 8.981e-18  | very significant, turns out different property types tend to show <br>up on different streeets                                                                      |"
   ]
  },
  {
   "attachments": {},
   "cell_type": "markdown",
   "metadata": {},
   "source": [
    "These results are much more definitive than the ones from lab2, which involved looking at heat maps with really only the 'residential' type. I was incorrect for a few of them, but it was very muddy and subjective, so I'm not too torn up about it. Specifically, I was wrong about city and zip code. It turns out certain zip codes do have different distributions of property types."
   ]
  }
 ],
 "metadata": {
  "kernelspec": {
   "display_name": "Python 3",
   "language": "python",
   "name": "python3"
  },
  "language_info": {
   "codemirror_mode": {
    "name": "ipython",
    "version": 3
   },
   "file_extension": ".py",
   "mimetype": "text/x-python",
   "name": "python",
   "nbconvert_exporter": "python",
   "pygments_lexer": "ipython3",
   "version": "3.8.10"
  },
  "orig_nbformat": 4,
  "vscode": {
   "interpreter": {
    "hash": "e7370f93d1d0cde622a1f8e1c04877d8463912d04d973331ad4851f04de6915a"
   }
  }
 },
 "nbformat": 4,
 "nbformat_minor": 2
}
