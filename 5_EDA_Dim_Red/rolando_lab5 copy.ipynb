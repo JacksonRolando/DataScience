{
 "cells": [
  {
   "attachments": {},
   "cell_type": "markdown",
   "metadata": {},
   "source": [
    "# Lab 5 - EDA with Dimensionality Reduction\n",
    "### Jackson Rolando"
   ]
  },
  {
   "attachments": {},
   "cell_type": "markdown",
   "metadata": {},
   "source": [
    "## Part 1 - Load the Data\n",
    "We'll load the data from JSON files into a Pandas data frame:"
   ]
  },
  {
   "cell_type": "code",
   "execution_count": 1,
   "metadata": {},
   "outputs": [],
   "source": [
    "import glob\n",
    "import json\n",
    "import pandas as pd\n",
    "import numpy as np\n",
    "import matplotlib.pyplot as plt"
   ]
  },
  {
   "cell_type": "code",
   "execution_count": 2,
   "metadata": {},
   "outputs": [],
   "source": [
    "objects = []\n",
    "for file in glob.glob('./email_json/*.json'):\n",
    "    with open(file) as f:\n",
    "        objects.append(json.load(f))"
   ]
  },
  {
   "cell_type": "code",
   "execution_count": 3,
   "metadata": {},
   "outputs": [
    {
     "data": {
      "text/html": [
       "<div>\n",
       "<style scoped>\n",
       "    .dataframe tbody tr th:only-of-type {\n",
       "        vertical-align: middle;\n",
       "    }\n",
       "\n",
       "    .dataframe tbody tr th {\n",
       "        vertical-align: top;\n",
       "    }\n",
       "\n",
       "    .dataframe thead th {\n",
       "        text-align: right;\n",
       "    }\n",
       "</style>\n",
       "<table border=\"1\" class=\"dataframe\">\n",
       "  <thead>\n",
       "    <tr style=\"text-align: right;\">\n",
       "      <th></th>\n",
       "      <th>category</th>\n",
       "      <th>to_address</th>\n",
       "      <th>from_address</th>\n",
       "      <th>subject</th>\n",
       "      <th>body</th>\n",
       "    </tr>\n",
       "  </thead>\n",
       "  <tbody>\n",
       "    <tr>\n",
       "      <th>0</th>\n",
       "      <td>ham</td>\n",
       "      <td>BREAKINGNEWS Subscribers&lt;BREAKINGNEWS-Subscrib...</td>\n",
       "      <td>BREAKING NEWS&lt;breakingnews@foxnews.com&gt;</td>\n",
       "      <td>FNC Alert</td>\n",
       "      <td>PELOSI, REID SIGN WAR-SPENDING BILL THAT INCLU...</td>\n",
       "    </tr>\n",
       "    <tr>\n",
       "      <th>1</th>\n",
       "      <td>spam</td>\n",
       "      <td>&lt;theorize@plg.uwaterloo.ca&gt;</td>\n",
       "      <td>\"cschai\" &lt;cschai@syhmco.co.kr&gt;</td>\n",
       "      <td>rtfmub</td>\n",
       "      <td>\\n\\n\\n\\n\\n\\n\\n\\nwyat\\nlnpmoqrkhapibcegd\\n\\n\\n\\...</td>\n",
       "    </tr>\n",
       "    <tr>\n",
       "      <th>2</th>\n",
       "      <td>spam</td>\n",
       "      <td>\"Theorize\" &lt;theorize@plg.uwaterloo.ca&gt;</td>\n",
       "      <td>\"Aegis Capital Group LLC\" &lt;Estela.Burch@smapxs...</td>\n",
       "      <td>Invitation to fill in the vacant position of a...</td>\n",
       "      <td>\\n\\n\\n\\nDear    sirs,\\nAegis      Capital  Gro...</td>\n",
       "    </tr>\n",
       "    <tr>\n",
       "      <th>3</th>\n",
       "      <td>spam</td>\n",
       "      <td>warwickktwarwic@speedy.uwaterloo.ca</td>\n",
       "      <td>\"shar Nobis\" &lt;sharNobis@autotradebuyer.co.uk&gt;</td>\n",
       "      <td>Terrific gains possible!</td>\n",
       "      <td>http://s6.bilder-hosting.de/img/7LR4W.jpg\\nImp...</td>\n",
       "    </tr>\n",
       "    <tr>\n",
       "      <th>4</th>\n",
       "      <td>ham</td>\n",
       "      <td>R-help@stat.math.ethz.ch</td>\n",
       "      <td>jessica.gervais@tudor.lu</td>\n",
       "      <td>[R] time serie generation</td>\n",
       "      <td>\\nDear all,\\n\\nI would like to generate a regu...</td>\n",
       "    </tr>\n",
       "  </tbody>\n",
       "</table>\n",
       "</div>"
      ],
      "text/plain": [
       "  category                                         to_address  \\\n",
       "0      ham  BREAKINGNEWS Subscribers<BREAKINGNEWS-Subscrib...   \n",
       "1     spam                        <theorize@plg.uwaterloo.ca>   \n",
       "2     spam             \"Theorize\" <theorize@plg.uwaterloo.ca>   \n",
       "3     spam                warwickktwarwic@speedy.uwaterloo.ca   \n",
       "4      ham                           R-help@stat.math.ethz.ch   \n",
       "\n",
       "                                        from_address  \\\n",
       "0            BREAKING NEWS<breakingnews@foxnews.com>   \n",
       "1                     \"cschai\" <cschai@syhmco.co.kr>   \n",
       "2  \"Aegis Capital Group LLC\" <Estela.Burch@smapxs...   \n",
       "3      \"shar Nobis\" <sharNobis@autotradebuyer.co.uk>   \n",
       "4                           jessica.gervais@tudor.lu   \n",
       "\n",
       "                                             subject  \\\n",
       "0                                          FNC Alert   \n",
       "1                                             rtfmub   \n",
       "2  Invitation to fill in the vacant position of a...   \n",
       "3                           Terrific gains possible!   \n",
       "4                          [R] time serie generation   \n",
       "\n",
       "                                                body  \n",
       "0  PELOSI, REID SIGN WAR-SPENDING BILL THAT INCLU...  \n",
       "1  \\n\\n\\n\\n\\n\\n\\n\\nwyat\\nlnpmoqrkhapibcegd\\n\\n\\n\\...  \n",
       "2  \\n\\n\\n\\nDear    sirs,\\nAegis      Capital  Gro...  \n",
       "3  http://s6.bilder-hosting.de/img/7LR4W.jpg\\nImp...  \n",
       "4  \\nDear all,\\n\\nI would like to generate a regu...  "
      ]
     },
     "execution_count": 3,
     "metadata": {},
     "output_type": "execute_result"
    }
   ],
   "source": [
    "df = pd.DataFrame(objects)\n",
    "df.head()"
   ]
  },
  {
   "attachments": {},
   "cell_type": "markdown",
   "metadata": {},
   "source": [
    "The columns and types are as follows, we've changed the label to a categorical variable:"
   ]
  },
  {
   "cell_type": "code",
   "execution_count": 4,
   "metadata": {},
   "outputs": [
    {
     "name": "stdout",
     "output_type": "stream",
     "text": [
      "<class 'pandas.core.frame.DataFrame'>\n",
      "RangeIndex: 63542 entries, 0 to 63541\n",
      "Data columns (total 5 columns):\n",
      " #   Column        Non-Null Count  Dtype   \n",
      "---  ------        --------------  -----   \n",
      " 0   category      63542 non-null  category\n",
      " 1   to_address    63141 non-null  object  \n",
      " 2   from_address  63542 non-null  object  \n",
      " 3   subject       63410 non-null  object  \n",
      " 4   body          63542 non-null  object  \n",
      "dtypes: category(1), object(4)\n",
      "memory usage: 2.0+ MB\n"
     ]
    }
   ],
   "source": [
    "df.category = df.category.astype('category')\n",
    "df.info()"
   ]
  },
  {
   "attachments": {},
   "cell_type": "markdown",
   "metadata": {},
   "source": [
    "We'll split our data, and save the files to be restored:"
   ]
  },
  {
   "cell_type": "code",
   "execution_count": 5,
   "metadata": {},
   "outputs": [
    {
     "name": "stdout",
     "output_type": "stream",
     "text": [
      "                           to_address  \\\n",
      "42471   <elaastic@flax9.uwaterloo.ca>   \n",
      "17776                 jerry@samba.org   \n",
      "42603             samba-cvs@samba.org   \n",
      "57690  <avcoopers@flax9.uwaterloo.ca>   \n",
      "16956   chromatic <chromatic@wgz.org>   \n",
      "\n",
      "                                      from_address  \\\n",
      "42471  \"CMA China Investment\" <cma@wsmijrjgcr.net>   \n",
      "17776  Volker Lendecke <Volker.Lendecke@SerNet.DE>   \n",
      "42603                                jra@samba.org   \n",
      "57690            <alert@broadcast.shareholder.com>   \n",
      "16956          \"Matt Diephouse\" <mddiep@gmail.com>   \n",
      "\n",
      "                                                 subject  \\\n",
      "42471           Formation company in Hong Kong and China   \n",
      "17776  Re: [PATCH] Updated: Implement simple means of...   \n",
      "42603  svn commit: samba r22574 - in branches: SAMBA_...   \n",
      "57690               Stock Notification for Netflix, Inc.   \n",
      "16956            Re: [PATCH] Re-work Parrot_process_args   \n",
      "\n",
      "                                                    body  \n",
      "42471  \\n9-15 信纸\\n\\n\\n\\n\\n\\n \\n\\n \\n\\n\\nHong Kong Com...  \n",
      "17776                                                     \n",
      "42603  Author: jra\\nDate: 2007-04-29 19:54:26 +0000 (...  \n",
      "57690  \\n\\n\\n\\n\\n\\n\\n\\nStock Quote Notification\\nThe ...  \n",
      "16956  chromatic  wrote:\\n> On Sunday 22 April 2007 1...  \n",
      "42471    spam\n",
      "17776     ham\n",
      "42603     ham\n",
      "57690     ham\n",
      "16956     ham\n",
      "dtype: object\n"
     ]
    }
   ],
   "source": [
    "from sklearn.model_selection import train_test_split\n",
    "\n",
    "data = df.drop(['category'], axis=1)\n",
    "labels = df['category']\n",
    "\n",
    "train, test, train_label, test_label = train_test_split(data, labels, test_size=.15)\n",
    "\n",
    "\n",
    "train.to_json('./data/train_data.json')\n",
    "test.to_json('./data/test_data.json')\n",
    "train_label.to_json('./data/train_label.json')\n",
    "test_label.to_json('./data/test_label.json')\n",
    "\n",
    "train = pd.read_json('./data/train_data.json')\n",
    "test = pd.read_json('./data/test_data.json')\n",
    "train_label = pd.read_json('./data/train_label.json', typ='series')\n",
    "test_label = pd.read_json('./data/test_label.json', typ='series')\n",
    "\n",
    "print(train.head())\n",
    "print(train_label.head())"
   ]
  },
  {
   "attachments": {},
   "cell_type": "markdown",
   "metadata": {},
   "source": [
    "## Part 2 - Extract Features\n"
   ]
  },
  {
   "attachments": {},
   "cell_type": "markdown",
   "metadata": {},
   "source": [
    "Here we'll convert the message bodies to Bag of Word vectors:"
   ]
  },
  {
   "cell_type": "code",
   "execution_count": 6,
   "metadata": {},
   "outputs": [
    {
     "data": {
      "text/plain": [
       "(54010, 275671)"
      ]
     },
     "execution_count": 6,
     "metadata": {},
     "output_type": "execute_result"
    }
   ],
   "source": [
    "from sklearn.feature_extraction.text import CountVectorizer\n",
    "\n",
    "vectorizer = CountVectorizer(binary=True)\n",
    "feat_mat = vectorizer.fit_transform(train.body)\n",
    "\n",
    "feat_mat.shape"
   ]
  },
  {
   "attachments": {},
   "cell_type": "markdown",
   "metadata": {},
   "source": [
    "There are 54,010 rows (nonNull entries) and 264,807 columns (different words in the entire corpus). \n",
    "\n",
    "We'll inspect the matrix:"
   ]
  },
  {
   "cell_type": "code",
   "execution_count": 7,
   "metadata": {},
   "outputs": [
    {
     "name": "stdout",
     "output_type": "stream",
     "text": [
      "Length of list: 275671\n",
      "\n",
      "First ten entries:\n",
      "15: 45998\n",
      "信纸: 275593\n",
      "hong: 144826\n",
      "kong: 159972\n",
      "company: 103025\n",
      "formation: 131531\n",
      "and: 80508\n",
      "china: 99361\n",
      "tax: 242813\n",
      "currency: 108554\n",
      "\n",
      "index of work: 266112\n",
      "column for \"work\":\n",
      "  (40, 0)\t1\n",
      "  (41, 0)\t1\n",
      "  (51, 0)\t1\n",
      "  (71, 0)\t1\n",
      "  (74, 0)\t1\n",
      "  (85, 0)\t1\n",
      "  (94, 0)\t1\n",
      "  (100, 0)\t1\n",
      "  (103, 0)\t1\n",
      "  (107, 0)\t1\n",
      "  (116, 0)\t1\n",
      "  (119, 0)\t1\n",
      "  (126, 0)\t1\n",
      "  (146, 0)\t1\n",
      "  (154, 0)\t1\n",
      "  (167, 0)\t1\n",
      "  (171, 0)\t1\n",
      "  (189, 0)\t1\n",
      "  (190, 0)\t1\n",
      "  (198, 0)\t1\n",
      "  (237, 0)\t1\n",
      "  (247, 0)\t1\n",
      "  (267, 0)\t1\n",
      "  (275, 0)\t1\n",
      "  (285, 0)\t1\n",
      "  :\t:\n",
      "  (53789, 0)\t1\n",
      "  (53792, 0)\t1\n",
      "  (53801, 0)\t1\n",
      "  (53808, 0)\t1\n",
      "  (53820, 0)\t1\n",
      "  (53821, 0)\t1\n",
      "  (53823, 0)\t1\n",
      "  (53843, 0)\t1\n",
      "  (53849, 0)\t1\n",
      "  (53854, 0)\t1\n",
      "  (53863, 0)\t1\n",
      "  (53874, 0)\t1\n",
      "  (53877, 0)\t1\n",
      "  (53893, 0)\t1\n",
      "  (53901, 0)\t1\n",
      "  (53919, 0)\t1\n",
      "  (53930, 0)\t1\n",
      "  (53939, 0)\t1\n",
      "  (53942, 0)\t1\n",
      "  (53946, 0)\t1\n",
      "  (53969, 0)\t1\n",
      "  (53976, 0)\t1\n",
      "  (53980, 0)\t1\n",
      "  (53997, 0)\t1\n",
      "  (54005, 0)\t1\n",
      "shape: (54010, 1)\n",
      "number of occurances: 5557 out of 54010 emails.\n",
      "\n",
      "index of love: 167518\n",
      "column for \"love\":\n",
      "  (91, 0)\t1\n",
      "  (95, 0)\t1\n",
      "  (106, 0)\t1\n",
      "  (107, 0)\t1\n",
      "  (140, 0)\t1\n",
      "  (157, 0)\t1\n",
      "  (171, 0)\t1\n",
      "  (190, 0)\t1\n",
      "  (194, 0)\t1\n",
      "  (246, 0)\t1\n",
      "  (267, 0)\t1\n",
      "  (338, 0)\t1\n",
      "  (354, 0)\t1\n",
      "  (444, 0)\t1\n",
      "  (505, 0)\t1\n",
      "  (526, 0)\t1\n",
      "  (541, 0)\t1\n",
      "  (564, 0)\t1\n",
      "  (570, 0)\t1\n",
      "  (578, 0)\t1\n",
      "  (644, 0)\t1\n",
      "  (648, 0)\t1\n",
      "  (653, 0)\t1\n",
      "  (667, 0)\t1\n",
      "  (759, 0)\t1\n",
      "  :\t:\n",
      "  (53307, 0)\t1\n",
      "  (53316, 0)\t1\n",
      "  (53350, 0)\t1\n",
      "  (53377, 0)\t1\n",
      "  (53409, 0)\t1\n",
      "  (53418, 0)\t1\n",
      "  (53444, 0)\t1\n",
      "  (53491, 0)\t1\n",
      "  (53508, 0)\t1\n",
      "  (53547, 0)\t1\n",
      "  (53559, 0)\t1\n",
      "  (53670, 0)\t1\n",
      "  (53721, 0)\t1\n",
      "  (53784, 0)\t1\n",
      "  (53791, 0)\t1\n",
      "  (53803, 0)\t1\n",
      "  (53813, 0)\t1\n",
      "  (53814, 0)\t1\n",
      "  (53844, 0)\t1\n",
      "  (53849, 0)\t1\n",
      "  (53861, 0)\t1\n",
      "  (53946, 0)\t1\n",
      "  (53949, 0)\t1\n",
      "  (53973, 0)\t1\n",
      "  (54003, 0)\t1\n",
      "shape: (54010, 1)\n",
      "number of occurances: 1731 out of 54010 emails.\n",
      "\n",
      "index of different: 114205\n",
      "column for \"different\":\n",
      "  (9, 0)\t1\n",
      "  (18, 0)\t1\n",
      "  (19, 0)\t1\n",
      "  (24, 0)\t1\n",
      "  (34, 0)\t1\n",
      "  (54, 0)\t1\n",
      "  (100, 0)\t1\n",
      "  (107, 0)\t1\n",
      "  (119, 0)\t1\n",
      "  (156, 0)\t1\n",
      "  (157, 0)\t1\n",
      "  (193, 0)\t1\n",
      "  (195, 0)\t1\n",
      "  (204, 0)\t1\n",
      "  (253, 0)\t1\n",
      "  (255, 0)\t1\n",
      "  (256, 0)\t1\n",
      "  (263, 0)\t1\n",
      "  (281, 0)\t1\n",
      "  (307, 0)\t1\n",
      "  (308, 0)\t1\n",
      "  (337, 0)\t1\n",
      "  (360, 0)\t1\n",
      "  (365, 0)\t1\n",
      "  (377, 0)\t1\n",
      "  :\t:\n",
      "  (53459, 0)\t1\n",
      "  (53493, 0)\t1\n",
      "  (53508, 0)\t1\n",
      "  (53524, 0)\t1\n",
      "  (53525, 0)\t1\n",
      "  (53528, 0)\t1\n",
      "  (53582, 0)\t1\n",
      "  (53626, 0)\t1\n",
      "  (53651, 0)\t1\n",
      "  (53691, 0)\t1\n",
      "  (53696, 0)\t1\n",
      "  (53719, 0)\t1\n",
      "  (53784, 0)\t1\n",
      "  (53803, 0)\t1\n",
      "  (53820, 0)\t1\n",
      "  (53823, 0)\t1\n",
      "  (53826, 0)\t1\n",
      "  (53834, 0)\t1\n",
      "  (53870, 0)\t1\n",
      "  (53905, 0)\t1\n",
      "  (53911, 0)\t1\n",
      "  (53913, 0)\t1\n",
      "  (53937, 0)\t1\n",
      "  (53945, 0)\t1\n",
      "  (53947, 0)\t1\n",
      "shape: (54010, 1)\n",
      "number of occurances: 2481 out of 54010 emails.\n",
      "\n"
     ]
    }
   ],
   "source": [
    "print(f'Length of list: {len(list(vectorizer.vocabulary_))}\\n')\n",
    "\n",
    "print('First ten entries:')\n",
    "first_some_keys = list(vectorizer.vocabulary_)[:10]\n",
    "for key in first_some_keys:\n",
    "    print(f'{key}: {vectorizer.vocabulary_[key]}')\n",
    "\n",
    "print()\n",
    "def search_word(word):\n",
    "    index = vectorizer.vocabulary_[word]\n",
    "    print(f'index of {word}: {index}')\n",
    "    column = feat_mat[:, index]\n",
    "    print(f'column for \"{word}\":\\n{column}')\n",
    "    print(f'shape: {column.shape}')\n",
    "    print(f'number of occurances: {column.sum()} out of {column.shape[0]} emails.\\n')\n",
    "\n",
    "words_to_search = [\"work\", \"love\", \"different\"]\n",
    "for word in words_to_search:\n",
    "    search_word(word)"
   ]
  },
  {
   "attachments": {},
   "cell_type": "markdown",
   "metadata": {},
   "source": [
    "## Part 3 - Dimensionality Reduction\n",
    "We'll combine several columns with high covariance:"
   ]
  },
  {
   "cell_type": "code",
   "execution_count": 8,
   "metadata": {},
   "outputs": [],
   "source": [
    "from sklearn.decomposition import TruncatedSVD\n",
    "\n",
    "condenser = TruncatedSVD(n_components=10)\n",
    "condensed_mat = condenser.fit_transform(feat_mat)"
   ]
  },
  {
   "cell_type": "code",
   "execution_count": 9,
   "metadata": {},
   "outputs": [
    {
     "name": "stdout",
     "output_type": "stream",
     "text": [
      "[0.05299109 0.02535154 0.01582448 0.0119804  0.0126446  0.00989303\n",
      " 0.00973082 0.00904304 0.0073767  0.00723567]\n"
     ]
    },
    {
     "data": {
      "text/plain": [
       "<BarContainer object of 10 artists>"
      ]
     },
     "execution_count": 9,
     "metadata": {},
     "output_type": "execute_result"
    },
    {
     "data": {
      "image/png": "[encoded data removed]",
      "text/plain": [
       "<Figure size 640x480 with 1 Axes>"
      ]
     },
     "metadata": {},
     "output_type": "display_data"
    }
   ],
   "source": [
    "print(condenser.explained_variance_ratio_)\n",
    "plt.bar(np.arange(condenser.explained_variance_ratio_.size), condenser.explained_variance_ratio_)"
   ]
  },
  {
   "attachments": {},
   "cell_type": "markdown",
   "metadata": {},
   "source": [
    "The first two components have the highest explained variance ratios, over 50%, meaning they represent most of the variance in the original data. "
   ]
  },
  {
   "attachments": {},
   "cell_type": "markdown",
   "metadata": {},
   "source": [
    "## Part 4 - Visualization"
   ]
  },
  {
   "attachments": {},
   "cell_type": "markdown",
   "metadata": {},
   "source": [
    "We'll plot the components with the highest explained variance:"
   ]
  },
  {
   "cell_type": "code",
   "execution_count": 10,
   "metadata": {},
   "outputs": [
    {
     "data": {
      "text/plain": [
       "<matplotlib.collections.PathCollection at 0x7f801bb65700>"
      ]
     },
     "execution_count": 10,
     "metadata": {},
     "output_type": "execute_result"
    },
    {
     "data": {
      "image/png": "[encoded data removed]",
      "text/plain": [
       "<Figure size 640x480 with 1 Axes>"
      ]
     },
     "metadata": {},
     "output_type": "display_data"
    }
   ],
   "source": [
    "i, j = (0, 1)\n",
    "plt.scatter(condensed_mat[:, i], condensed_mat[:, j])"
   ]
  },
  {
   "attachments": {},
   "cell_type": "markdown",
   "metadata": {},
   "source": [
    "Here we'll add labels and color-coding to the mix:"
   ]
  },
  {
   "cell_type": "code",
   "execution_count": 11,
   "metadata": {},
   "outputs": [
    {
     "data": {
      "image/png": "[encoded data removed]",
      "text/plain": [
       "<Figure size 640x480 with 1 Axes>"
      ]
     },
     "metadata": {},
     "output_type": "display_data"
    }
   ],
   "source": [
    "colors = {'ham': 'green', 'spam': 'red'}\n",
    "\n",
    "fig, ax = plt.subplots()\n",
    "for label in np.unique(train_label):\n",
    "    indices = np.where(train_label == label)\n",
    "    ax.scatter(condensed_mat[indices, i], condensed_mat[indices, j], label=label, c=colors[label])\n",
    "ax.legend()\n",
    "plt.show()"
   ]
  },
  {
   "attachments": {},
   "cell_type": "markdown",
   "metadata": {},
   "source": [
    "## Reflection Questions:\n",
    "1. Each JSON file has a sender email, a receiver email, a subject, the body of the message, and whether the message was ham or spam. The body is the content of the email, a corpus that we're encoding.\n",
    "2. "
   ]
  }
 ],
 "metadata": {
  "kernelspec": {
   "display_name": "Python 3",
   "language": "python",
   "name": "python3"
  },
  "language_info": {
   "codemirror_mode": {
    "name": "ipython",
    "version": 3
   },
   "file_extension": ".py",
   "mimetype": "text/x-python",
   "name": "python",
   "nbconvert_exporter": "python",
   "pygments_lexer": "ipython3",
   "version": "3.8.10"
  },
  "orig_nbformat": 4,
  "vscode": {
   "interpreter": {
    "hash": "e7370f93d1d0cde622a1f8e1c04877d8463912d04d973331ad4851f04de6915a"
   }
  }
 },
 "nbformat": 4,
 "nbformat_minor": 2
}
