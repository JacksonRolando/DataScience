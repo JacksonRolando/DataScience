{
 "cells": [
  {
   "attachments": {},
   "cell_type": "markdown",
   "metadata": {},
   "source": [
    "# Lab 5 - EDA with Dimensionality Reduction\n",
    "### Jackson Rolando"
   ]
  },
  {
   "attachments": {},
   "cell_type": "markdown",
   "metadata": {},
   "source": [
    "## Part 1 - Load the Data\n",
    "We'll load the data from JSON files into a Pandas data frame:"
   ]
  },
  {
   "cell_type": "code",
   "execution_count": 1,
   "metadata": {},
   "outputs": [],
   "source": [
    "import glob\n",
    "import json\n",
    "import numpy as np\n",
    "import pandas as pd\n",
    "import matplotlib.pyplot as plt"
   ]
  },
  {
   "cell_type": "code",
   "execution_count": 2,
   "metadata": {},
   "outputs": [],
   "source": [
    "objects = []\n",
    "for file in glob.glob('./email_json/*.json'):\n",
    "    with open(file) as f:\n",
    "        objects.append(json.load(f))"
   ]
  },
  {
   "cell_type": "code",
   "execution_count": 3,
   "metadata": {},
   "outputs": [
    {
     "data": {
      "text/html": [
       "<div>\n",
       "<style scoped>\n",
       "    .dataframe tbody tr th:only-of-type {\n",
       "        vertical-align: middle;\n",
       "    }\n",
       "\n",
       "    .dataframe tbody tr th {\n",
       "        vertical-align: top;\n",
       "    }\n",
       "\n",
       "    .dataframe thead th {\n",
       "        text-align: right;\n",
       "    }\n",
       "</style>\n",
       "<table border=\"1\" class=\"dataframe\">\n",
       "  <thead>\n",
       "    <tr style=\"text-align: right;\">\n",
       "      <th></th>\n",
       "      <th>category</th>\n",
       "      <th>to_address</th>\n",
       "      <th>from_address</th>\n",
       "      <th>subject</th>\n",
       "      <th>body</th>\n",
       "    </tr>\n",
       "  </thead>\n",
       "  <tbody>\n",
       "    <tr>\n",
       "      <th>0</th>\n",
       "      <td>ham</td>\n",
       "      <td>BREAKINGNEWS Subscribers&lt;BREAKINGNEWS-Subscrib...</td>\n",
       "      <td>BREAKING NEWS&lt;breakingnews@foxnews.com&gt;</td>\n",
       "      <td>FNC Alert</td>\n",
       "      <td>PELOSI, REID SIGN WAR-SPENDING BILL THAT INCLU...</td>\n",
       "    </tr>\n",
       "    <tr>\n",
       "      <th>1</th>\n",
       "      <td>spam</td>\n",
       "      <td>&lt;theorize@plg.uwaterloo.ca&gt;</td>\n",
       "      <td>\"cschai\" &lt;cschai@syhmco.co.kr&gt;</td>\n",
       "      <td>rtfmub</td>\n",
       "      <td>\\n\\n\\n\\n\\n\\n\\n\\nwyat\\nlnpmoqrkhapibcegd\\n\\n\\n\\...</td>\n",
       "    </tr>\n",
       "    <tr>\n",
       "      <th>2</th>\n",
       "      <td>spam</td>\n",
       "      <td>\"Theorize\" &lt;theorize@plg.uwaterloo.ca&gt;</td>\n",
       "      <td>\"Aegis Capital Group LLC\" &lt;Estela.Burch@smapxs...</td>\n",
       "      <td>Invitation to fill in the vacant position of a...</td>\n",
       "      <td>\\n\\n\\n\\nDear    sirs,\\nAegis      Capital  Gro...</td>\n",
       "    </tr>\n",
       "    <tr>\n",
       "      <th>3</th>\n",
       "      <td>spam</td>\n",
       "      <td>warwickktwarwic@speedy.uwaterloo.ca</td>\n",
       "      <td>\"shar Nobis\" &lt;sharNobis@autotradebuyer.co.uk&gt;</td>\n",
       "      <td>Terrific gains possible!</td>\n",
       "      <td>http://s6.bilder-hosting.de/img/7LR4W.jpg\\nImp...</td>\n",
       "    </tr>\n",
       "    <tr>\n",
       "      <th>4</th>\n",
       "      <td>ham</td>\n",
       "      <td>R-help@stat.math.ethz.ch</td>\n",
       "      <td>jessica.gervais@tudor.lu</td>\n",
       "      <td>[R] time serie generation</td>\n",
       "      <td>\\nDear all,\\n\\nI would like to generate a regu...</td>\n",
       "    </tr>\n",
       "  </tbody>\n",
       "</table>\n",
       "</div>"
      ],
      "text/plain": [
       "  category                                         to_address  \\\n",
       "0      ham  BREAKINGNEWS Subscribers<BREAKINGNEWS-Subscrib...   \n",
       "1     spam                        <theorize@plg.uwaterloo.ca>   \n",
       "2     spam             \"Theorize\" <theorize@plg.uwaterloo.ca>   \n",
       "3     spam                warwickktwarwic@speedy.uwaterloo.ca   \n",
       "4      ham                           R-help@stat.math.ethz.ch   \n",
       "\n",
       "                                        from_address  \\\n",
       "0            BREAKING NEWS<breakingnews@foxnews.com>   \n",
       "1                     \"cschai\" <cschai@syhmco.co.kr>   \n",
       "2  \"Aegis Capital Group LLC\" <Estela.Burch@smapxs...   \n",
       "3      \"shar Nobis\" <sharNobis@autotradebuyer.co.uk>   \n",
       "4                           jessica.gervais@tudor.lu   \n",
       "\n",
       "                                             subject  \\\n",
       "0                                          FNC Alert   \n",
       "1                                             rtfmub   \n",
       "2  Invitation to fill in the vacant position of a...   \n",
       "3                           Terrific gains possible!   \n",
       "4                          [R] time serie generation   \n",
       "\n",
       "                                                body  \n",
       "0  PELOSI, REID SIGN WAR-SPENDING BILL THAT INCLU...  \n",
       "1  \\n\\n\\n\\n\\n\\n\\n\\nwyat\\nlnpmoqrkhapibcegd\\n\\n\\n\\...  \n",
       "2  \\n\\n\\n\\nDear    sirs,\\nAegis      Capital  Gro...  \n",
       "3  http://s6.bilder-hosting.de/img/7LR4W.jpg\\nImp...  \n",
       "4  \\nDear all,\\n\\nI would like to generate a regu...  "
      ]
     },
     "execution_count": 3,
     "metadata": {},
     "output_type": "execute_result"
    }
   ],
   "source": [
    "df = pd.DataFrame(objects)\n",
    "df.head()"
   ]
  },
  {
   "attachments": {},
   "cell_type": "markdown",
   "metadata": {},
   "source": [
    "The columns and types are as follows, we've changed the label to a categorical variable:"
   ]
  },
  {
   "cell_type": "code",
   "execution_count": 4,
   "metadata": {},
   "outputs": [
    {
     "name": "stdout",
     "output_type": "stream",
     "text": [
      "<class 'pandas.core.frame.DataFrame'>\n",
      "RangeIndex: 63542 entries, 0 to 63541\n",
      "Data columns (total 5 columns):\n",
      " #   Column        Non-Null Count  Dtype   \n",
      "---  ------        --------------  -----   \n",
      " 0   category      63542 non-null  category\n",
      " 1   to_address    63141 non-null  object  \n",
      " 2   from_address  63542 non-null  object  \n",
      " 3   subject       63410 non-null  object  \n",
      " 4   body          63542 non-null  object  \n",
      "dtypes: category(1), object(4)\n",
      "memory usage: 2.0+ MB\n"
     ]
    }
   ],
   "source": [
    "df.category = df.category.astype('category')\n",
    "df.info()"
   ]
  },
  {
   "attachments": {},
   "cell_type": "markdown",
   "metadata": {},
   "source": [
    "## Part 2 - Extract Features\n"
   ]
  },
  {
   "attachments": {},
   "cell_type": "markdown",
   "metadata": {},
   "source": [
    "Here we'll convert the message bodies to Bag of Word vectors:"
   ]
  },
  {
   "cell_type": "code",
   "execution_count": 5,
   "metadata": {},
   "outputs": [
    {
     "name": "stdout",
     "output_type": "stream",
     "text": [
      "(63542, 300984)\n",
      "6885706\n"
     ]
    }
   ],
   "source": [
    "from sklearn.feature_extraction.text import CountVectorizer\n",
    "\n",
    "vectorizer = CountVectorizer(binary=True)\n",
    "feat_mat = vectorizer.fit_transform(df.body)\n",
    "\n",
    "print(feat_mat.shape)\n",
    "print(feat_mat.sum())"
   ]
  },
  {
   "attachments": {},
   "cell_type": "markdown",
   "metadata": {},
   "source": [
    "There are 63,542 rows (nonNull entries) and 300,984 columns (different words in the entire corpus). \n",
    "\n",
    "We'll inspect the matrix:"
   ]
  },
  {
   "cell_type": "code",
   "execution_count": 6,
   "metadata": {},
   "outputs": [
    {
     "name": "stdout",
     "output_type": "stream",
     "text": [
      "Length of list: 300984\n",
      "\n",
      "First ten entries:\n",
      "pelosi: 216076\n",
      "reid: 235309\n",
      "sign: 249548\n",
      "war: 285529\n",
      "spending: 254951\n",
      "bill: 99386\n",
      "that: 266767\n",
      "includes: 164213\n",
      "iraq: 167840\n",
      "pullout: 227377\n",
      "\n",
      "index of work: 289649\n",
      "column for \"work\":\n",
      "  (2, 0)\t1\n",
      "  (22, 0)\t1\n",
      "  (30, 0)\t1\n",
      "  (37, 0)\t1\n",
      "  (49, 0)\t1\n",
      "  (67, 0)\t1\n",
      "  (75, 0)\t1\n",
      "  (92, 0)\t1\n",
      "  (93, 0)\t1\n",
      "  (100, 0)\t1\n",
      "  (114, 0)\t1\n",
      "  (121, 0)\t1\n",
      "  (126, 0)\t1\n",
      "  (127, 0)\t1\n",
      "  (130, 0)\t1\n",
      "  (134, 0)\t1\n",
      "  (149, 0)\t1\n",
      "  (151, 0)\t1\n",
      "  (153, 0)\t1\n",
      "  (156, 0)\t1\n",
      "  (159, 0)\t1\n",
      "  (170, 0)\t1\n",
      "  (176, 0)\t1\n",
      "  (189, 0)\t1\n",
      "  (207, 0)\t1\n",
      "  :\t:\n",
      "  (63371, 0)\t1\n",
      "  (63376, 0)\t1\n",
      "  (63384, 0)\t1\n",
      "  (63385, 0)\t1\n",
      "  (63386, 0)\t1\n",
      "  (63398, 0)\t1\n",
      "  (63410, 0)\t1\n",
      "  (63421, 0)\t1\n",
      "  (63428, 0)\t1\n",
      "  (63438, 0)\t1\n",
      "  (63444, 0)\t1\n",
      "  (63461, 0)\t1\n",
      "  (63467, 0)\t1\n",
      "  (63473, 0)\t1\n",
      "  (63474, 0)\t1\n",
      "  (63476, 0)\t1\n",
      "  (63480, 0)\t1\n",
      "  (63482, 0)\t1\n",
      "  (63490, 0)\t1\n",
      "  (63504, 0)\t1\n",
      "  (63516, 0)\t1\n",
      "  (63527, 0)\t1\n",
      "  (63528, 0)\t1\n",
      "  (63532, 0)\t1\n",
      "  (63536, 0)\t1\n",
      "shape: (63542, 1)\n",
      "number of occurances: 6466 out of 63542 emails.\n",
      "\n",
      "index of love: 183355\n",
      "column for \"love\":\n",
      "  (16, 0)\t1\n",
      "  (22, 0)\t1\n",
      "  (36, 0)\t1\n",
      "  (54, 0)\t1\n",
      "  (68, 0)\t1\n",
      "  (79, 0)\t1\n",
      "  (96, 0)\t1\n",
      "  (107, 0)\t1\n",
      "  (144, 0)\t1\n",
      "  (151, 0)\t1\n",
      "  (156, 0)\t1\n",
      "  (188, 0)\t1\n",
      "  (239, 0)\t1\n",
      "  (266, 0)\t1\n",
      "  (292, 0)\t1\n",
      "  (297, 0)\t1\n",
      "  (355, 0)\t1\n",
      "  (362, 0)\t1\n",
      "  (363, 0)\t1\n",
      "  (421, 0)\t1\n",
      "  (431, 0)\t1\n",
      "  (463, 0)\t1\n",
      "  (465, 0)\t1\n",
      "  (467, 0)\t1\n",
      "  (482, 0)\t1\n",
      "  :\t:\n",
      "  (62596, 0)\t1\n",
      "  (62601, 0)\t1\n",
      "  (62643, 0)\t1\n",
      "  (62645, 0)\t1\n",
      "  (62700, 0)\t1\n",
      "  (62703, 0)\t1\n",
      "  (62748, 0)\t1\n",
      "  (62761, 0)\t1\n",
      "  (62837, 0)\t1\n",
      "  (62846, 0)\t1\n",
      "  (62885, 0)\t1\n",
      "  (62916, 0)\t1\n",
      "  (63010, 0)\t1\n",
      "  (63082, 0)\t1\n",
      "  (63132, 0)\t1\n",
      "  (63168, 0)\t1\n",
      "  (63194, 0)\t1\n",
      "  (63282, 0)\t1\n",
      "  (63290, 0)\t1\n",
      "  (63354, 0)\t1\n",
      "  (63373, 0)\t1\n",
      "  (63406, 0)\t1\n",
      "  (63453, 0)\t1\n",
      "  (63510, 0)\t1\n",
      "  (63532, 0)\t1\n",
      "shape: (63542, 1)\n",
      "number of occurances: 2043 out of 63542 emails.\n",
      "\n",
      "index of different: 125499\n",
      "column for \"different\":\n",
      "  (15, 0)\t1\n",
      "  (34, 0)\t1\n",
      "  (58, 0)\t1\n",
      "  (60, 0)\t1\n",
      "  (100, 0)\t1\n",
      "  (126, 0)\t1\n",
      "  (134, 0)\t1\n",
      "  (148, 0)\t1\n",
      "  (154, 0)\t1\n",
      "  (156, 0)\t1\n",
      "  (157, 0)\t1\n",
      "  (161, 0)\t1\n",
      "  (170, 0)\t1\n",
      "  (182, 0)\t1\n",
      "  (183, 0)\t1\n",
      "  (186, 0)\t1\n",
      "  (252, 0)\t1\n",
      "  (292, 0)\t1\n",
      "  (310, 0)\t1\n",
      "  (329, 0)\t1\n",
      "  (334, 0)\t1\n",
      "  (341, 0)\t1\n",
      "  (355, 0)\t1\n",
      "  (370, 0)\t1\n",
      "  (390, 0)\t1\n",
      "  :\t:\n",
      "  (63004, 0)\t1\n",
      "  (63024, 0)\t1\n",
      "  (63030, 0)\t1\n",
      "  (63053, 0)\t1\n",
      "  (63067, 0)\t1\n",
      "  (63071, 0)\t1\n",
      "  (63077, 0)\t1\n",
      "  (63083, 0)\t1\n",
      "  (63095, 0)\t1\n",
      "  (63100, 0)\t1\n",
      "  (63116, 0)\t1\n",
      "  (63185, 0)\t1\n",
      "  (63194, 0)\t1\n",
      "  (63217, 0)\t1\n",
      "  (63251, 0)\t1\n",
      "  (63275, 0)\t1\n",
      "  (63297, 0)\t1\n",
      "  (63436, 0)\t1\n",
      "  (63444, 0)\t1\n",
      "  (63467, 0)\t1\n",
      "  (63474, 0)\t1\n",
      "  (63480, 0)\t1\n",
      "  (63517, 0)\t1\n",
      "  (63532, 0)\t1\n",
      "  (63536, 0)\t1\n",
      "shape: (63542, 1)\n",
      "number of occurances: 2893 out of 63542 emails.\n",
      "\n"
     ]
    }
   ],
   "source": [
    "print(f'Length of list: {len(list(vectorizer.vocabulary_))}\\n')\n",
    "\n",
    "print('First ten entries:')\n",
    "first_some_keys = list(vectorizer.vocabulary_)[:10]\n",
    "for key in first_some_keys:\n",
    "    print(f'{key}: {vectorizer.vocabulary_[key]}')\n",
    "\n",
    "print()\n",
    "def search_word(word):\n",
    "    index = vectorizer.vocabulary_[word]\n",
    "    print(f'index of {word}: {index}')\n",
    "    column = feat_mat[:, index]\n",
    "    print(f'column for \"{word}\":\\n{column}')\n",
    "    print(f'shape: {column.shape}')\n",
    "    print(f'number of occurances: {column.sum()} out of {column.shape[0]} emails.\\n')\n",
    "\n",
    "words_to_search = [\"work\", \"love\", \"different\"]\n",
    "for word in words_to_search:\n",
    "    search_word(word)"
   ]
  },
  {
   "attachments": {},
   "cell_type": "markdown",
   "metadata": {},
   "source": [
    "## Part 3 - Dimensionality Reduction\n",
    "We'll combine several columns with high covariance:"
   ]
  },
  {
   "cell_type": "code",
   "execution_count": 7,
   "metadata": {},
   "outputs": [],
   "source": [
    "from sklearn.decomposition import TruncatedSVD\n",
    "\n",
    "condenser = TruncatedSVD(n_components=10)\n",
    "condensed_mat = condenser.fit_transform(feat_mat)"
   ]
  },
  {
   "cell_type": "code",
   "execution_count": 8,
   "metadata": {},
   "outputs": [
    {
     "name": "stdout",
     "output_type": "stream",
     "text": [
      "[0.05291813 0.02548106 0.01589105 0.01204943 0.0125203  0.00997942\n",
      " 0.0096945  0.00913629 0.00739745 0.00726841]\n"
     ]
    },
    {
     "data": {
      "text/plain": [
       "<BarContainer object of 10 artists>"
      ]
     },
     "execution_count": 8,
     "metadata": {},
     "output_type": "execute_result"
    },
    {
     "data": {
      "image/png": "[encoded data removed]",
      "text/plain": [
       "<Figure size 640x480 with 1 Axes>"
      ]
     },
     "metadata": {},
     "output_type": "display_data"
    }
   ],
   "source": [
    "print(condenser.explained_variance_ratio_)\n",
    "plt.bar(np.arange(condenser.explained_variance_ratio_.size), condenser.explained_variance_ratio_)"
   ]
  },
  {
   "attachments": {},
   "cell_type": "markdown",
   "metadata": {},
   "source": [
    "The first two components have the highest explained variance ratios, over 50%, meaning they represent most of the variance in the original data. "
   ]
  },
  {
   "attachments": {},
   "cell_type": "markdown",
   "metadata": {},
   "source": [
    "## Part 4 - Visualization"
   ]
  },
  {
   "attachments": {},
   "cell_type": "markdown",
   "metadata": {},
   "source": [
    "We'll plot the components with the highest explained variance:"
   ]
  },
  {
   "cell_type": "code",
   "execution_count": 9,
   "metadata": {},
   "outputs": [
    {
     "data": {
      "text/plain": [
       "<matplotlib.collections.PathCollection at 0x7f91d35fe100>"
      ]
     },
     "execution_count": 9,
     "metadata": {},
     "output_type": "execute_result"
    },
    {
     "data": {
      "image/png": "[encoded data removed]",
      "text/plain": [
       "<Figure size 640x480 with 1 Axes>"
      ]
     },
     "metadata": {},
     "output_type": "display_data"
    }
   ],
   "source": [
    "i, j = (0, 1)\n",
    "plt.scatter(condensed_mat[:, i], condensed_mat[:, j])"
   ]
  },
  {
   "attachments": {},
   "cell_type": "markdown",
   "metadata": {},
   "source": [
    "Here we'll add labels and color-coding to the mix:"
   ]
  },
  {
   "cell_type": "code",
   "execution_count": 13,
   "metadata": {},
   "outputs": [
    {
     "data": {
      "image/png": "[encoded data removed]",
      "text/plain": [
       "<Figure size 640x480 with 1 Axes>"
      ]
     },
     "metadata": {},
     "output_type": "display_data"
    }
   ],
   "source": [
    "colors = {'ham': 'green', 'spam': 'red'}\n",
    "\n",
    "fig, ax = plt.subplots()\n",
    "for label in np.unique(df[\"category\"]):\n",
    "    indices = np.where(df[\"category\"] == label)\n",
    "    ax.scatter(condensed_mat[indices, i], condensed_mat[indices, j], label=label, c=colors[label])\n",
    "ax.legend()\n",
    "plt.show()"
   ]
  },
  {
   "attachments": {},
   "cell_type": "markdown",
   "metadata": {},
   "source": [
    "## Reflection Questions:\n",
    "1. Each JSON file has a sender email, a receiver email, a subject, the body of the message, and whether the message was ham or spam. The body is the content of the email, a corpus that we're encoding.\n",
    "2. 63542 * 300984 * 4 = 76.5 GB: Wow, I definitely do not have this much RAM.\n",
    "3. 6885706 nonzero entries * (4 bytes + 4 bytes) + 63542 rows * 4 bytes = 55.3 MB: much less memory here. \n",
    "4. 100 * 6885706 nonzero entries / (63542 rows * 300984 columns) = 3.6% filled\n",
    "5. A sparse matrix is not only ideal for this application, but required in order to run on any normal computer. There isn't enough memory to hold the entire filled matrix, potentially not even enough disk storage on my machine. The sparse matrix makes the matrix computable.\n",
    "6. There are two main groups in the data, with very few points outside the clusters. This is generally true for the other columns as well. This makes sense, as the new matrix tries to preserve the spread of the original data. Since most of the variance is preserved with the firs column, it makes sense for it to spread wider than the next column, which still has a good amount of spread, but not as much, hence the horizontal groupings.\n",
    "7. Adding in the labels, it looks like the ham messages have some key features that spam messages do not, and the spam messages probably consist mostly of very common wordings, contained in all emails. "
   ]
  }
 ],
 "metadata": {
  "kernelspec": {
   "display_name": "Python 3",
   "language": "python",
   "name": "python3"
  },
  "language_info": {
   "codemirror_mode": {
    "name": "ipython",
    "version": 3
   },
   "file_extension": ".py",
   "mimetype": "text/x-python",
   "name": "python",
   "nbconvert_exporter": "python",
   "pygments_lexer": "ipython3",
   "version": "3.8.10"
  },
  "orig_nbformat": 4,
  "vscode": {
   "interpreter": {
    "hash": "e7370f93d1d0cde622a1f8e1c04877d8463912d04d973331ad4851f04de6915a"
   }
  }
 },
 "nbformat": 4,
 "nbformat_minor": 2
}
